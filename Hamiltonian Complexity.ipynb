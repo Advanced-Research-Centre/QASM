{
 "cells": [
  {
   "cell_type": "markdown",
   "id": "9a80142c",
   "metadata": {},
   "source": [
    "### 1) Algorithmic Complexities of gates\n",
    "\n",
    "Here we will calculate the complexitites of the Unitary universal gates."
   ]
  },
  {
   "cell_type": "code",
   "execution_count": 1,
   "id": "7eb6a565",
   "metadata": {},
   "outputs": [],
   "source": [
    "import qiskit\n",
    "from qiskit import *\n",
    "from pybdm import BDM\n",
    "import numpy as np\n",
    "import scipy as sp\n",
    "import matplotlib as plt\n",
    "from qiskit import QuantumCircuit, transpile, execute\n",
    "import qiskit.quantum_info as qi"
   ]
  },
  {
   "cell_type": "code",
   "execution_count": 2,
   "id": "d41131ba",
   "metadata": {},
   "outputs": [],
   "source": [
    "def H2U(H,t,precision=8):\n",
    "  r = np.pi*t\n",
    "  U = np.round(sp.linalg.expm(r*H*1j),precision)\n",
    "  return U\n",
    "\n",
    "def M_bdm(M,width=1,frac=2):\n",
    "  Mr = M.real\n",
    "  Mi = M.imag\n",
    "  Mr_quantized = np.round(Mr*(2**frac)).astype(int)\n",
    "  Mr_bin = np.vectorize(np.binary_repr)(Mr_quantized,width)\n",
    "  Mi_quantized = np.round(Mi*(2**frac)).astype(int)\n",
    "  Mi_bin = np.vectorize(np.binary_repr)(Mi_quantized,width)\n",
    "  M_bin = np.array(list(''.join(list(np.concatenate((np.ndarray.flatten(Mr_bin),np.ndarray.flatten(Mi_bin)))))),dtype=int)\n",
    "  bdm1d = BDM(ndim=1)\n",
    "  return bdm1d.bdm(M_bin)"
   ]
  },
  {
   "cell_type": "markdown",
   "id": "b69f4e6d",
   "metadata": {},
   "source": [
    "### 1.a) Hadamard Gate"
   ]
  },
  {
   "cell_type": "code",
   "execution_count": 15,
   "id": "0fcac67c",
   "metadata": {},
   "outputs": [
    {
     "name": "stdout",
     "output_type": "stream",
     "text": [
      "Algoithmic Complexity of Hamiltonian = 27.6837377380489\n"
     ]
    }
   ],
   "source": [
    "H = np.array([[1,1], [1,-1]])\n",
    "print(\"Algoithmic Complexity of Hamiltonian =\",M_bdm(H))\n"
   ]
  },
  {
   "cell_type": "markdown",
   "id": "e14a6775",
   "metadata": {},
   "source": [
    "### 1.b) X-Gate"
   ]
  },
  {
   "cell_type": "code",
   "execution_count": 16,
   "id": "9215ae2d",
   "metadata": {},
   "outputs": [
    {
     "name": "stdout",
     "output_type": "stream",
     "text": [
      "Algoithmic Complexity of Hamiltonian = 29.92209174583532\n"
     ]
    }
   ],
   "source": [
    "X = np.array(([0, 1], [1, 0]))\n",
    "print(\"Algoithmic Complexity of Hamiltonian =\",M_bdm(X))"
   ]
  },
  {
   "cell_type": "markdown",
   "id": "37e72d08",
   "metadata": {},
   "source": [
    "### 1.c) Z-Gate"
   ]
  },
  {
   "cell_type": "code",
   "execution_count": 17,
   "id": "6f661ae6",
   "metadata": {},
   "outputs": [
    {
     "name": "stdout",
     "output_type": "stream",
     "text": [
      "Algoithmic Complexity of Hamiltonian = 30.187681856572873\n"
     ]
    }
   ],
   "source": [
    "Z = np.array(([1, 0], [0, -1]))\n",
    "print(\"Algoithmic Complexity of Hamiltonian =\",M_bdm(Z))"
   ]
  },
  {
   "cell_type": "markdown",
   "id": "4f7875f8",
   "metadata": {},
   "source": [
    "### 1.d) Y-Gate"
   ]
  },
  {
   "cell_type": "code",
   "execution_count": 18,
   "id": "9755d9f2",
   "metadata": {},
   "outputs": [
    {
     "name": "stdout",
     "output_type": "stream",
     "text": [
      "Algoithmic Complexity of Hamiltonian = 30.536721797077472\n"
     ]
    }
   ],
   "source": [
    "Y = np.array(([0, -1j], [1j, 0]))\n",
    "print(\"Algoithmic Complexity of Hamiltonian =\",M_bdm(Y))"
   ]
  },
  {
   "cell_type": "markdown",
   "id": "1d4672ed",
   "metadata": {},
   "source": [
    "### 1.e) S-Gate"
   ]
  },
  {
   "cell_type": "code",
   "execution_count": 22,
   "id": "2a64a7d5",
   "metadata": {},
   "outputs": [
    {
     "name": "stdout",
     "output_type": "stream",
     "text": [
      "Algoithmic Complexity of Hamiltonian = 30.73776931601557\n"
     ]
    }
   ],
   "source": [
    "S = np.array(([1, 0], [0, 1j]))\n",
    "print(\"Algoithmic Complexity of Hamiltonian =\",M_bdm(S))"
   ]
  },
  {
   "cell_type": "markdown",
   "id": "a318b6b4",
   "metadata": {},
   "source": [
    "### 1.f) T-Gate"
   ]
  },
  {
   "cell_type": "code",
   "execution_count": 23,
   "id": "d2de596e",
   "metadata": {},
   "outputs": [
    {
     "name": "stdout",
     "output_type": "stream",
     "text": [
      "Algoithmic Complexity of Hamiltonian = 34.01980468377941\n"
     ]
    }
   ],
   "source": [
    "T = np.array(([1, 0], [0, np.exp(1j*np.pi/4)]))\n",
    "print(\"Algoithmic Complexity of Hamiltonian =\",M_bdm(T))"
   ]
  },
  {
   "cell_type": "markdown",
   "id": "c99a9088",
   "metadata": {},
   "source": [
    "### 1.g) CNOT gate"
   ]
  },
  {
   "cell_type": "code",
   "execution_count": 1,
   "id": "b6839c60",
   "metadata": {},
   "outputs": [
    {
     "data": {
      "text/plain": [
       "25.301383425861303"
      ]
     },
     "execution_count": 1,
     "metadata": {},
     "output_type": "execute_result"
    }
   ],
   "source": [
    "import numpy as np\n",
    "from pybdm import BDM\n",
    "\n",
    "#Y = np.ones((100,100), dtype = int)\n",
    "\n",
    "X = np.array([[1,0,0,0], [0, 1, 0, 0], [0,0,0,1], [0,0,1,0]], dtype = int)\n",
    "\n",
    "bdm = BDM(ndim=2)\n",
    "\n",
    "bdm.bdm(X)"
   ]
  },
  {
   "cell_type": "markdown",
   "id": "7f4cee39",
   "metadata": {},
   "source": [
    "### Simulating the Simplified Ising model\n",
    "\n",
    "\\begin{equation}\n",
    "    \\mathcal{H} = -J \\sum_{\\langle i, j\\rangle} \\hat\\sigma_{i}^{z} \\otimes \\hat\\sigma_{j}^{z}\n",
    "\\end{equation}\n",
    "Assuming the interaction strength is the same between nearest neighbours. J = 1\n",
    "\n",
    "Let's consider a 3-site Hamiltonian:\n",
    "\n",
    "\\begin{equation}\n",
    "    \\mathcal{H}_3 = -\\hat\\sigma_{1}^{z} \\hat\\sigma_{2}^{z} \\hat{I}_3 -\\hat{I}_1 \\hat\\sigma_{2}^{z} \\hat\\sigma_{3}^{z}\n",
    "    \\end{equation}"
   ]
  },
  {
   "cell_type": "code",
   "execution_count": 5,
   "id": "e82f329d",
   "metadata": {},
   "outputs": [],
   "source": [
    "from qiskit.opflow import Zero, One, I, X, Y, Z\n",
    "from qiskit.visualization import array_to_latex\n"
   ]
  },
  {
   "cell_type": "code",
   "execution_count": 5,
   "id": "9176b343",
   "metadata": {},
   "outputs": [
    {
     "name": "stdout",
     "output_type": "stream",
     "text": [
      "Z\n"
     ]
    }
   ],
   "source": [
    "print('Z')"
   ]
  },
  {
   "cell_type": "code",
   "execution_count": 6,
   "id": "e2ccb369",
   "metadata": {},
   "outputs": [
    {
     "name": "stdout",
     "output_type": "stream",
     "text": [
      "Operator([[-2.+0.j,  0.+0.j,  0.+0.j,  0.+0.j,  0.+0.j,  0.+0.j,  0.+0.j,\n",
      "            0.+0.j],\n",
      "          [ 0.+0.j,  0.+0.j,  0.+0.j,  0.+0.j,  0.+0.j,  0.+0.j,  0.+0.j,\n",
      "            0.+0.j],\n",
      "          [ 0.+0.j,  0.+0.j,  2.+0.j,  0.+0.j,  0.+0.j,  0.+0.j,  0.+0.j,\n",
      "            0.+0.j],\n",
      "          [ 0.+0.j,  0.+0.j,  0.+0.j,  0.+0.j,  0.+0.j,  0.+0.j,  0.+0.j,\n",
      "            0.+0.j],\n",
      "          [ 0.+0.j,  0.+0.j,  0.+0.j,  0.+0.j,  0.+0.j,  0.+0.j,  0.+0.j,\n",
      "            0.+0.j],\n",
      "          [ 0.+0.j,  0.+0.j,  0.+0.j,  0.+0.j,  0.+0.j,  2.+0.j,  0.+0.j,\n",
      "            0.+0.j],\n",
      "          [ 0.+0.j,  0.+0.j,  0.+0.j,  0.+0.j,  0.+0.j,  0.+0.j,  0.+0.j,\n",
      "            0.+0.j],\n",
      "          [ 0.+0.j,  0.+0.j,  0.+0.j,  0.+0.j,  0.+0.j,  0.+0.j,  0.+0.j,\n",
      "           -2.+0.j]],\n",
      "         input_dims=(2, 2, 2), output_dims=(2, 2, 2))\n"
     ]
    }
   ],
   "source": [
    "H_3 = -(Z^Z^I) - (I^Z^Z)\n",
    "print((H_3).to_matrix_op())"
   ]
  },
  {
   "cell_type": "markdown",
   "id": "d61cd0af",
   "metadata": {},
   "source": [
    "### Converting the matrix to unitary"
   ]
  },
  {
   "cell_type": "code",
   "execution_count": null,
   "id": "bc68108d",
   "metadata": {},
   "outputs": [
    {
     "name": "stdout",
     "output_type": "stream",
     "text": [
      "ERROR! Session/line number was not unique in database. History logging moved to new session 169\n"
     ]
    }
   ],
   "source": [
    "q, r = np.linalg.qr(H_3)\n",
    "p = np.dot(q.T, H_3)\n",
    "np.dot(np.linalg.inv(r), p)"
   ]
  },
  {
   "cell_type": "code",
   "execution_count": 7,
   "id": "c47d7909",
   "metadata": {},
   "outputs": [
    {
     "ename": "ValueError",
     "evalue": "setting an array element with a sequence. The requested array would exceed the maximum number of dimension of 32.",
     "output_type": "error",
     "traceback": [
      "\u001b[0;31m---------------------------------------------------------------------------\u001b[0m",
      "\u001b[0;31mValueError\u001b[0m                                Traceback (most recent call last)",
      "Input \u001b[0;32mIn [7]\u001b[0m, in \u001b[0;36m<cell line: 1>\u001b[0;34m()\u001b[0m\n\u001b[0;32m----> 1\u001b[0m X \u001b[38;5;241m=\u001b[39m \u001b[43mnp\u001b[49m\u001b[38;5;241;43m.\u001b[39;49m\u001b[43marray\u001b[49m\u001b[43m(\u001b[49m\u001b[43mH_3\u001b[49m\u001b[43m,\u001b[49m\u001b[43m \u001b[49m\u001b[43mdtype\u001b[49m\u001b[43m \u001b[49m\u001b[38;5;241;43m=\u001b[39;49m\u001b[43m \u001b[49m\u001b[38;5;28;43mcomplex\u001b[39;49m\u001b[43m)\u001b[49m\n\u001b[1;32m      3\u001b[0m bdm \u001b[38;5;241m=\u001b[39m BDM(ndim\u001b[38;5;241m=\u001b[39m\u001b[38;5;241m4\u001b[39m)\n\u001b[1;32m      5\u001b[0m bdm\u001b[38;5;241m.\u001b[39mbdm(X)\n",
      "\u001b[0;31mValueError\u001b[0m: setting an array element with a sequence. The requested array would exceed the maximum number of dimension of 32."
     ]
    }
   ],
   "source": [
    "X = np.array(H_3, dtype = complex)\n",
    "\n",
    "bdm = BDM(ndim=4)\n",
    "\n",
    "bdm.bdm(X)"
   ]
  },
  {
   "cell_type": "markdown",
   "id": "99d08f11",
   "metadata": {},
   "source": [
    "### Code using HamLib"
   ]
  },
  {
   "cell_type": "code",
   "execution_count": 37,
   "id": "33830748",
   "metadata": {},
   "outputs": [
    {
     "name": "stdout",
     "output_type": "stream",
     "text": [
      "ERROR! Session/line number was not unique in database. History logging moved to new session 166\n"
     ]
    }
   ],
   "source": [
    "import networkx as nx\n",
    "#import mat2qubit as m2q\n",
    "import openfermion as of\n",
    "import h5py\n",
    "import numpy as np"
   ]
  },
  {
   "cell_type": "code",
   "execution_count": 23,
   "id": "72be3a96",
   "metadata": {},
   "outputs": [],
   "source": [
    "def parse_through_hdf5 ( func ) :\n",
    "    \"\"\" Decorator function that iterates through an HDF5 file and performs\n",
    "    the action specified by ‘func ‘ on the internal and leaf nodes in the HDF5 file . \"\"\"\n",
    "    def wrapper ( obj , path ='/', key = None ):\n",
    "        if type ( obj ) in [ h5py . _hl . group . Group , h5py . _hl . files . File ]:\n",
    "            for ky in obj . keys () :\n",
    "                func ( obj , path , key =ky , leaf = False )\n",
    "                wrapper ( obj = obj [ ky ], path = path + ky + '/', key = ky )\n",
    "        elif type ( obj ) == h5py . _hl . dataset . Dataset :\n",
    "            func ( obj , path , key = None , leaf = True )\n",
    "    return wrapper"
   ]
  },
  {
   "cell_type": "code",
   "execution_count": 24,
   "id": "e3cc4638",
   "metadata": {},
   "outputs": [],
   "source": [
    "def print_hdf5_structure ( fname_hdf5 : str ):\n",
    "    \"\"\" Print the path structure of the HDF5 file .\n",
    "    Args\n",
    "    ----\n",
    "    fname_hdf5 ( str ): full path where HDF5 file is stored\n",
    "    \"\"\"\n",
    "    @parse_through_hdf5\n",
    "    def action ( obj , path ='/', key = None , leaf = False ) :\n",
    "        if key is not None :\n",
    "            print (( path . count ('/') -1) *'\\t', '-', key , ':', path + key + '/')\n",
    "        if leaf :\n",
    "            print (( path . count ('/') -1) *'\\t', '[^^ DATASET ^^] ')\n",
    "    with h5py . File ( fname_hdf5 , 'r') as f:\n",
    "        action ( f['/'])"
   ]
  },
  {
   "cell_type": "code",
   "execution_count": 25,
   "id": "0f25642c",
   "metadata": {},
   "outputs": [],
   "source": [
    "def get_hdf5_keys ( fname_hdf5 : str ):\n",
    "    \"\"\" Get a list of keys to all datasets stored in the HDF5 file .\n",
    "    Args\n",
    "    ----\n",
    "    fname_hdf5 ( str ): full path where HDF5 file is stored\n",
    "    \"\"\"\n",
    "    all_keys = []\n",
    "    @parse_through_hdf5\n",
    "    def action ( obj , path ='/', key = None , leaf = False ) :\n",
    "        if leaf is True :\n",
    "            all_keys . append ( path )\n",
    "    with h5py . File ( fname_hdf5 , 'r') as f:\n",
    "        action ( f['/'])\n",
    "    return all_keys"
   ]
  },
  {
   "cell_type": "code",
   "execution_count": 46,
   "id": "8a5e5018",
   "metadata": {},
   "outputs": [],
   "source": [
    "def read_gridpositions_hdf5 ( fname_hdf5 : str , key : str ):\n",
    "    \"\"\" Read grid positions , stored as attribute of each networkx graph from HDF5 file\n",
    "    at specified key. Returns grid positions of nodes associated with a single graph .\n",
    "    \"\"\"\n",
    "    with h5py . File ( fname_hdf5 , 'r') as f:\n",
    "        dataset = f[ key ]\n",
    "        gridpositions_dict = dict(dataset.attrs.items())\n",
    "    return gridpositions_dict"
   ]
  },
  {
   "cell_type": "code",
   "execution_count": 37,
   "id": "25cd1484",
   "metadata": {},
   "outputs": [],
   "source": [
    "def read_graph_hdf5 ( fname_hdf5 : str , key : str ):\n",
    "    \"\"\" Read networkx graphs from HDF5 file at specified key . Returns a single networkx\n",
    "    graph .\n",
    "    \"\"\"\n",
    "    with h5py . File ( fname_hdf5 , 'r') as f:\n",
    "        G = nx . Graph ( list ( np . array (f [ key ]) ))\n",
    "    return G"
   ]
  },
  {
   "cell_type": "code",
   "execution_count": 51,
   "id": "803cecca",
   "metadata": {},
   "outputs": [
    {
     "name": "stdout",
     "output_type": "stream",
     "text": [
      "<function read_gridpositions_hdf5 at 0x7fcd788d0ca0>\n"
     ]
    }
   ],
   "source": [
    "import zipfile\n",
    "import requests\n",
    "from io import BytesIO\n",
    "\n",
    "url = 'https://portal.nersc.gov/cfs/m888/dcamps/hamlib/condensedmatter/tfim/tfim.zip'\n",
    "\n",
    "r = requests . get ( url , stream = True )\n",
    "z = zipfile . ZipFile ( BytesIO ( r. content ))\n",
    "\n",
    "hdf5_filename = z.namelist()[0]\n",
    "\n",
    "print(read_gridpositions_hdf5) "
   ]
  },
  {
   "cell_type": "code",
   "execution_count": null,
   "id": "3ac8e34b",
   "metadata": {},
   "outputs": [],
   "source": []
  }
 ],
 "metadata": {
  "kernelspec": {
   "display_name": "Python 3 (ipykernel)",
   "language": "python",
   "name": "python3"
  },
  "language_info": {
   "codemirror_mode": {
    "name": "ipython",
    "version": 3
   },
   "file_extension": ".py",
   "mimetype": "text/x-python",
   "name": "python",
   "nbconvert_exporter": "python",
   "pygments_lexer": "ipython3",
   "version": "3.9.7"
  }
 },
 "nbformat": 4,
 "nbformat_minor": 5
}
