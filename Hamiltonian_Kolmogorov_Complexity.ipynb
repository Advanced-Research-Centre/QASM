{
  "nbformat": 4,
  "nbformat_minor": 0,
  "metadata": {
    "colab": {
      "provenance": [],
      "authorship_tag": "ABX9TyMqC9jY8zi4E9ZaNlKSa/vl",
      "include_colab_link": true
    },
    "kernelspec": {
      "name": "python3",
      "display_name": "Python 3"
    },
    "language_info": {
      "name": "python"
    }
  },
  "cells": [
    {
      "cell_type": "markdown",
      "metadata": {
        "id": "view-in-github",
        "colab_type": "text"
      },
      "source": [
        "<a href=\"https://colab.research.google.com/github/Advanced-Research-Centre/QASM/blob/main/Hamiltonian_Kolmogorov_Complexity.ipynb\" target=\"_parent\"><img src=\"https://colab.research.google.com/assets/colab-badge.svg\" alt=\"Open In Colab\"/></a>"
      ]
    },
    {
      "cell_type": "code",
      "execution_count": 1,
      "metadata": {
        "colab": {
          "base_uri": "https://localhost:8080/"
        },
        "id": "UXvjNK74MlOT",
        "outputId": "34fc5c9e-35aa-4b53-d31f-3877702f0dbe"
      },
      "outputs": [
        {
          "output_type": "stream",
          "name": "stdout",
          "text": [
            "Collecting qiskit\n",
            "  Downloading qiskit-0.44.1-py3-none-any.whl (8.2 kB)\n",
            "Collecting qiskit-terra==0.25.1 (from qiskit)\n",
            "  Downloading qiskit_terra-0.25.1-cp38-abi3-manylinux_2_17_x86_64.manylinux2014_x86_64.whl (6.1 MB)\n",
            "\u001b[2K     \u001b[90m━━━━━━━━━━━━━━━━━━━━━━━━━━━━━━━━━━━━━━━━\u001b[0m \u001b[32m6.1/6.1 MB\u001b[0m \u001b[31m43.5 MB/s\u001b[0m eta \u001b[36m0:00:00\u001b[0m\n",
            "\u001b[?25hCollecting rustworkx>=0.13.0 (from qiskit-terra==0.25.1->qiskit)\n",
            "  Downloading rustworkx-0.13.1-cp310-cp310-manylinux_2_17_x86_64.manylinux2014_x86_64.whl (2.0 MB)\n",
            "\u001b[2K     \u001b[90m━━━━━━━━━━━━━━━━━━━━━━━━━━━━━━━━━━━━━━━━\u001b[0m \u001b[32m2.0/2.0 MB\u001b[0m \u001b[31m65.2 MB/s\u001b[0m eta \u001b[36m0:00:00\u001b[0m\n",
            "\u001b[?25hRequirement already satisfied: numpy>=1.17 in /usr/local/lib/python3.10/dist-packages (from qiskit-terra==0.25.1->qiskit) (1.23.5)\n",
            "Collecting ply>=3.10 (from qiskit-terra==0.25.1->qiskit)\n",
            "  Downloading ply-3.11-py2.py3-none-any.whl (49 kB)\n",
            "\u001b[2K     \u001b[90m━━━━━━━━━━━━━━━━━━━━━━━━━━━━━━━━━━━━━━━━\u001b[0m \u001b[32m49.6/49.6 kB\u001b[0m \u001b[31m5.9 MB/s\u001b[0m eta \u001b[36m0:00:00\u001b[0m\n",
            "\u001b[?25hRequirement already satisfied: psutil>=5 in /usr/local/lib/python3.10/dist-packages (from qiskit-terra==0.25.1->qiskit) (5.9.5)\n",
            "Requirement already satisfied: scipy>=1.5 in /usr/local/lib/python3.10/dist-packages (from qiskit-terra==0.25.1->qiskit) (1.11.2)\n",
            "Requirement already satisfied: sympy>=1.3 in /usr/local/lib/python3.10/dist-packages (from qiskit-terra==0.25.1->qiskit) (1.12)\n",
            "Collecting dill>=0.3 (from qiskit-terra==0.25.1->qiskit)\n",
            "  Downloading dill-0.3.7-py3-none-any.whl (115 kB)\n",
            "\u001b[2K     \u001b[90m━━━━━━━━━━━━━━━━━━━━━━━━━━━━━━━━━━━━━━\u001b[0m \u001b[32m115.3/115.3 kB\u001b[0m \u001b[31m14.1 MB/s\u001b[0m eta \u001b[36m0:00:00\u001b[0m\n",
            "\u001b[?25hRequirement already satisfied: python-dateutil>=2.8.0 in /usr/local/lib/python3.10/dist-packages (from qiskit-terra==0.25.1->qiskit) (2.8.2)\n",
            "Collecting stevedore>=3.0.0 (from qiskit-terra==0.25.1->qiskit)\n",
            "  Downloading stevedore-5.1.0-py3-none-any.whl (49 kB)\n",
            "\u001b[2K     \u001b[90m━━━━━━━━━━━━━━━━━━━━━━━━━━━━━━━━━━━━━━━━\u001b[0m \u001b[32m49.6/49.6 kB\u001b[0m \u001b[31m4.5 MB/s\u001b[0m eta \u001b[36m0:00:00\u001b[0m\n",
            "\u001b[?25hCollecting symengine<0.10,>=0.9 (from qiskit-terra==0.25.1->qiskit)\n",
            "  Downloading symengine-0.9.2-cp310-cp310-manylinux2010_x86_64.whl (37.5 MB)\n",
            "\u001b[2K     \u001b[90m━━━━━━━━━━━━━━━━━━━━━━━━━━━━━━━━━━━━━━━━\u001b[0m \u001b[32m37.5/37.5 MB\u001b[0m \u001b[31m33.1 MB/s\u001b[0m eta \u001b[36m0:00:00\u001b[0m\n",
            "\u001b[?25hRequirement already satisfied: typing-extensions in /usr/local/lib/python3.10/dist-packages (from qiskit-terra==0.25.1->qiskit) (4.5.0)\n",
            "Requirement already satisfied: six>=1.5 in /usr/local/lib/python3.10/dist-packages (from python-dateutil>=2.8.0->qiskit-terra==0.25.1->qiskit) (1.16.0)\n",
            "Collecting pbr!=2.1.0,>=2.0.0 (from stevedore>=3.0.0->qiskit-terra==0.25.1->qiskit)\n",
            "  Downloading pbr-5.11.1-py2.py3-none-any.whl (112 kB)\n",
            "\u001b[2K     \u001b[90m━━━━━━━━━━━━━━━━━━━━━━━━━━━━━━━━━━━━━━\u001b[0m \u001b[32m112.7/112.7 kB\u001b[0m \u001b[31m13.8 MB/s\u001b[0m eta \u001b[36m0:00:00\u001b[0m\n",
            "\u001b[?25hRequirement already satisfied: mpmath>=0.19 in /usr/local/lib/python3.10/dist-packages (from sympy>=1.3->qiskit-terra==0.25.1->qiskit) (1.3.0)\n",
            "Installing collected packages: ply, symengine, rustworkx, pbr, dill, stevedore, qiskit-terra, qiskit\n",
            "Successfully installed dill-0.3.7 pbr-5.11.1 ply-3.11 qiskit-0.44.1 qiskit-terra-0.25.1 rustworkx-0.13.1 stevedore-5.1.0 symengine-0.9.2\n"
          ]
        }
      ],
      "source": [
        "pip install qiskit"
      ]
    },
    {
      "cell_type": "code",
      "source": [
        "!pip install pybdm"
      ],
      "metadata": {
        "colab": {
          "base_uri": "https://localhost:8080/"
        },
        "id": "40Aj-EjoNN4M",
        "outputId": "7f259c95-9bee-4f7a-c898-617d254a04fe"
      },
      "execution_count": 2,
      "outputs": [
        {
          "output_type": "stream",
          "name": "stdout",
          "text": [
            "Collecting pybdm\n",
            "  Downloading pybdm-0.1.0-py2.py3-none-any.whl (39.9 MB)\n",
            "\u001b[2K     \u001b[90m━━━━━━━━━━━━━━━━━━━━━━━━━━━━━━━━━━━━━━━━\u001b[0m \u001b[32m39.9/39.9 MB\u001b[0m \u001b[31m29.5 MB/s\u001b[0m eta \u001b[36m0:00:00\u001b[0m\n",
            "\u001b[?25hRequirement already satisfied: numpy>=1.15.4 in /usr/local/lib/python3.10/dist-packages (from pybdm) (1.23.5)\n",
            "Installing collected packages: pybdm\n",
            "Successfully installed pybdm-0.1.0\n"
          ]
        }
      ]
    },
    {
      "cell_type": "code",
      "source": [
        "import qiskit\n",
        "from qiskit import *\n",
        "from pybdm import BDM\n",
        "import numpy as np\n",
        "import scipy as sp\n",
        "import matplotlib.pyplot as plt\n",
        "from qiskit import QuantumCircuit, transpile, execute\n",
        "import qiskit.quantum_info as qi\n",
        "import random\n"
      ],
      "metadata": {
        "id": "qq7bhvHTNF3p"
      },
      "execution_count": 28,
      "outputs": []
    },
    {
      "cell_type": "code",
      "source": [
        "from qiskit.opflow import Zero, One, I, X, Y, Z\n",
        "from qiskit.visualization import array_to_latex"
      ],
      "metadata": {
        "id": "bKu7dMZLNvVd",
        "colab": {
          "base_uri": "https://localhost:8080/"
        },
        "outputId": "175aaeaf-edcb-4bdd-a1b5-14c65a3786d1"
      },
      "execution_count": 4,
      "outputs": [
        {
          "output_type": "stream",
          "name": "stderr",
          "text": [
            "<ipython-input-4-92c8566fe969>:1: DeprecationWarning: The ``qiskit.opflow`` module is deprecated as of qiskit-terra 0.24.0. It will be removed no earlier than 3 months after the release date. For code migration guidelines, visit https://qisk.it/opflow_migration.\n",
            "  from qiskit.opflow import Zero, One, I, X, Y, Z\n"
          ]
        }
      ]
    },
    {
      "cell_type": "markdown",
      "source": [
        "###Implementing a Toy model Ising Hamiltonian\n",
        "\n",
        "\n",
        "\\begin{equation}\n",
        "    \\mathcal{H} = -J \\sum_{\\langle i, j\\rangle} \\hat\\sigma_{i}^{z} \\otimes \\hat\\sigma_{j}^{z}\n",
        "\\end{equation}\n",
        "Assuming the interaction strength is the same between nearest neighbours. $J = 1$\n",
        "\n",
        "Let's consider a 3-site Hamiltonian:\n",
        "\n",
        "\\begin{equation}\n",
        "    \\mathcal{H}_3 = -\\hat\\sigma_{1}^{z} \\hat\\sigma_{2}^{z} \\hat{I}_3 -\\hat{I}_1 \\hat\\sigma_{2}^{z} \\hat\\sigma_{3}^{z}\n",
        "    \\end{equation}\n"
      ],
      "metadata": {
        "id": "kKIGLhXTb6uN"
      }
    },
    {
      "cell_type": "markdown",
      "source": [
        "###Simulating using Qiskit"
      ],
      "metadata": {
        "id": "6D5XEXR1c2Vm"
      }
    },
    {
      "cell_type": "code",
      "source": [
        "H_3 = -(Z^Z^I) - (I^Z^Z)\n",
        "print((H_3).to_matrix_op())"
      ],
      "metadata": {
        "colab": {
          "base_uri": "https://localhost:8080/"
        },
        "id": "urRhzyInN70h",
        "outputId": "6ade3755-49c0-40f8-d1d3-734ff39cdbf9"
      },
      "execution_count": 5,
      "outputs": [
        {
          "output_type": "stream",
          "name": "stdout",
          "text": [
            "Operator([[-2.+0.j,  0.+0.j,  0.+0.j,  0.+0.j,  0.+0.j,  0.+0.j,  0.+0.j,\n",
            "            0.+0.j],\n",
            "          [ 0.+0.j,  0.+0.j,  0.+0.j,  0.+0.j,  0.+0.j,  0.+0.j,  0.+0.j,\n",
            "            0.+0.j],\n",
            "          [ 0.+0.j,  0.+0.j,  2.+0.j,  0.+0.j,  0.+0.j,  0.+0.j,  0.+0.j,\n",
            "            0.+0.j],\n",
            "          [ 0.+0.j,  0.+0.j,  0.+0.j,  0.+0.j,  0.+0.j,  0.+0.j,  0.+0.j,\n",
            "            0.+0.j],\n",
            "          [ 0.+0.j,  0.+0.j,  0.+0.j,  0.+0.j,  0.+0.j,  0.+0.j,  0.+0.j,\n",
            "            0.+0.j],\n",
            "          [ 0.+0.j,  0.+0.j,  0.+0.j,  0.+0.j,  0.+0.j,  2.+0.j,  0.+0.j,\n",
            "            0.+0.j],\n",
            "          [ 0.+0.j,  0.+0.j,  0.+0.j,  0.+0.j,  0.+0.j,  0.+0.j,  0.+0.j,\n",
            "            0.+0.j],\n",
            "          [ 0.+0.j,  0.+0.j,  0.+0.j,  0.+0.j,  0.+0.j,  0.+0.j,  0.+0.j,\n",
            "           -2.+0.j]],\n",
            "         input_dims=(2, 2, 2), output_dims=(2, 2, 2))\n"
          ]
        }
      ]
    },
    {
      "cell_type": "markdown",
      "source": [
        "###Simulating without Qiskit\n",
        "Using *Kronecker product* from numpy/scipy"
      ],
      "metadata": {
        "id": "Y_mSx27xdBRY"
      }
    },
    {
      "cell_type": "code",
      "source": [
        "z = [[1, 0], [0, -1]]\n",
        "z"
      ],
      "metadata": {
        "colab": {
          "base_uri": "https://localhost:8080/"
        },
        "id": "3DpNtyLWPW0m",
        "outputId": "0c55cd80-2077-473d-c2b7-d91e8bd641d0"
      },
      "execution_count": 6,
      "outputs": [
        {
          "output_type": "execute_result",
          "data": {
            "text/plain": [
              "[[1, 0], [0, -1]]"
            ]
          },
          "metadata": {},
          "execution_count": 6
        }
      ]
    },
    {
      "cell_type": "code",
      "source": [
        "i = [[1, 0], [0, 1]]\n",
        "i"
      ],
      "metadata": {
        "colab": {
          "base_uri": "https://localhost:8080/"
        },
        "id": "48MeLE6GQLzD",
        "outputId": "9978761a-06bf-4e1e-e5d9-41e15d66fbbe"
      },
      "execution_count": 7,
      "outputs": [
        {
          "output_type": "execute_result",
          "data": {
            "text/plain": [
              "[[1, 0], [0, 1]]"
            ]
          },
          "metadata": {},
          "execution_count": 7
        }
      ]
    },
    {
      "cell_type": "code",
      "source": [
        "x = [[0, 1], [1, 0]]\n",
        "x"
      ],
      "metadata": {
        "colab": {
          "base_uri": "https://localhost:8080/"
        },
        "id": "Rp_Jv5KGQaX1",
        "outputId": "319ce823-2d61-439f-d750-a44def7e934b"
      },
      "execution_count": 8,
      "outputs": [
        {
          "output_type": "execute_result",
          "data": {
            "text/plain": [
              "[[0, 1], [1, 0]]"
            ]
          },
          "metadata": {},
          "execution_count": 8
        }
      ]
    },
    {
      "cell_type": "code",
      "source": [
        "z1 = np.kron(z, z)\n",
        "z1"
      ],
      "metadata": {
        "colab": {
          "base_uri": "https://localhost:8080/"
        },
        "id": "EhrS53asQfG4",
        "outputId": "494c2c4a-9274-4db5-eb7f-cc8fc6795f99"
      },
      "execution_count": 9,
      "outputs": [
        {
          "output_type": "execute_result",
          "data": {
            "text/plain": [
              "array([[ 1,  0,  0,  0],\n",
              "       [ 0, -1,  0,  0],\n",
              "       [ 0,  0, -1,  0],\n",
              "       [ 0,  0,  0,  1]])"
            ]
          },
          "metadata": {},
          "execution_count": 9
        }
      ]
    },
    {
      "cell_type": "code",
      "source": [
        "zz = np.kron(i, z1)\n",
        "zz"
      ],
      "metadata": {
        "colab": {
          "base_uri": "https://localhost:8080/"
        },
        "id": "zLPgnYKfQnsB",
        "outputId": "1a94c032-d50d-4910-8a35-47292bdb1376"
      },
      "execution_count": 10,
      "outputs": [
        {
          "output_type": "execute_result",
          "data": {
            "text/plain": [
              "array([[ 1,  0,  0,  0,  0,  0,  0,  0],\n",
              "       [ 0, -1,  0,  0,  0,  0,  0,  0],\n",
              "       [ 0,  0, -1,  0,  0,  0,  0,  0],\n",
              "       [ 0,  0,  0,  1,  0,  0,  0,  0],\n",
              "       [ 0,  0,  0,  0,  1,  0,  0,  0],\n",
              "       [ 0,  0,  0,  0,  0, -1,  0,  0],\n",
              "       [ 0,  0,  0,  0,  0,  0, -1,  0],\n",
              "       [ 0,  0,  0,  0,  0,  0,  0,  1]])"
            ]
          },
          "metadata": {},
          "execution_count": 10
        }
      ]
    },
    {
      "cell_type": "code",
      "source": [
        "zz1 = np.kron(z1, i)\n",
        "zz1"
      ],
      "metadata": {
        "colab": {
          "base_uri": "https://localhost:8080/"
        },
        "id": "84Piym2SRaV-",
        "outputId": "c3d3a2fd-9d82-4269-d212-a57cb7079b2a"
      },
      "execution_count": 11,
      "outputs": [
        {
          "output_type": "execute_result",
          "data": {
            "text/plain": [
              "array([[ 1,  0,  0,  0,  0,  0,  0,  0],\n",
              "       [ 0,  1,  0,  0,  0,  0,  0,  0],\n",
              "       [ 0,  0, -1,  0,  0,  0,  0,  0],\n",
              "       [ 0,  0,  0, -1,  0,  0,  0,  0],\n",
              "       [ 0,  0,  0,  0, -1,  0,  0,  0],\n",
              "       [ 0,  0,  0,  0,  0, -1,  0,  0],\n",
              "       [ 0,  0,  0,  0,  0,  0,  1,  0],\n",
              "       [ 0,  0,  0,  0,  0,  0,  0,  1]])"
            ]
          },
          "metadata": {},
          "execution_count": 11
        }
      ]
    },
    {
      "cell_type": "code",
      "source": [
        "H_2 = -zz -zz1\n",
        "H_2"
      ],
      "metadata": {
        "colab": {
          "base_uri": "https://localhost:8080/"
        },
        "id": "YHhh1go1R-tO",
        "outputId": "d8e85a7c-f831-47fd-caf2-ecbb14994195"
      },
      "execution_count": 30,
      "outputs": [
        {
          "output_type": "execute_result",
          "data": {
            "text/plain": [
              "array([[-2,  0,  0,  0,  0,  0,  0,  0],\n",
              "       [ 0,  0,  0,  0,  0,  0,  0,  0],\n",
              "       [ 0,  0,  2,  0,  0,  0,  0,  0],\n",
              "       [ 0,  0,  0,  0,  0,  0,  0,  0],\n",
              "       [ 0,  0,  0,  0,  0,  0,  0,  0],\n",
              "       [ 0,  0,  0,  0,  0,  2,  0,  0],\n",
              "       [ 0,  0,  0,  0,  0,  0,  0,  0],\n",
              "       [ 0,  0,  0,  0,  0,  0,  0, -2]])"
            ]
          },
          "metadata": {},
          "execution_count": 30
        }
      ]
    },
    {
      "cell_type": "code",
      "source": [
        "Ham_bin = np.sign(H_3)\n",
        "Ham_bin"
      ],
      "metadata": {
        "colab": {
          "base_uri": "https://localhost:8080/"
        },
        "id": "jCf9QCRDW7ng",
        "outputId": "8a190efa-4037-4640-d6dc-cf208fc16ccf"
      },
      "execution_count": 13,
      "outputs": [
        {
          "output_type": "execute_result",
          "data": {
            "text/plain": [
              "array([[-1,  0,  0,  0,  0,  0,  0,  0],\n",
              "       [ 0,  0,  0,  0,  0,  0,  0,  0],\n",
              "       [ 0,  0,  1,  0,  0,  0,  0,  0],\n",
              "       [ 0,  0,  0,  0,  0,  0,  0,  0],\n",
              "       [ 0,  0,  0,  0,  0,  0,  0,  0],\n",
              "       [ 0,  0,  0,  0,  0,  1,  0,  0],\n",
              "       [ 0,  0,  0,  0,  0,  0,  0,  0],\n",
              "       [ 0,  0,  0,  0,  0,  0,  0, -1]])"
            ]
          },
          "metadata": {},
          "execution_count": 13
        }
      ]
    },
    {
      "cell_type": "code",
      "source": [
        "print(Ham_bin.dtype)"
      ],
      "metadata": {
        "colab": {
          "base_uri": "https://localhost:8080/"
        },
        "id": "ccUh88-UZFmW",
        "outputId": "488f9aff-9ce9-43c1-c91f-d4d31d46aff3"
      },
      "execution_count": 14,
      "outputs": [
        {
          "output_type": "stream",
          "name": "stdout",
          "text": [
            "int64\n"
          ]
        }
      ]
    },
    {
      "cell_type": "code",
      "source": [
        "def M_bdm(M,width=1,frac=2):\n",
        "  Mr = M.real\n",
        "  Mi = M.imag\n",
        "  Mr_quantized = np.round(Mr*(2**frac)).astype(int)\n",
        "  Mr_bin = np.vectorize(np.binary_repr)(Mr_quantized,width)\n",
        "  Mi_quantized = np.round(Mi*(2**frac)).astype(int)\n",
        "  Mi_bin = np.vectorize(np.binary_repr)(Mi_quantized,width)\n",
        "  M_bin = np.array(list(''.join(list(np.concatenate((np.ndarray.flatten(Mr_bin),np.ndarray.flatten(Mi_bin)))))),dtype=int)\n",
        "  bdm1d = BDM(ndim=1)\n",
        "  return bdm1d.bdm(M_bin)"
      ],
      "metadata": {
        "id": "hUPBygtPYjQt"
      },
      "execution_count": 64,
      "outputs": []
    },
    {
      "cell_type": "code",
      "source": [
        "print(\"Algoithmic Complexity of Hamiltonian =\",M_bdm(Ham_bin))"
      ],
      "metadata": {
        "colab": {
          "base_uri": "https://localhost:8080/"
        },
        "id": "7U64_Bo-Zdyn",
        "outputId": "1bbca2dc-8722-4f05-ce6e-9d23c0b72598"
      },
      "execution_count": 16,
      "outputs": [
        {
          "output_type": "stream",
          "name": "stdout",
          "text": [
            "Algoithmic Complexity of Hamiltonian = 139.7948948446379\n"
          ]
        }
      ]
    },
    {
      "cell_type": "code",
      "source": [
        "print(\"Algoithmic Complexity of Hamiltonian =\",M_bdm(H_3))"
      ],
      "metadata": {
        "colab": {
          "base_uri": "https://localhost:8080/"
        },
        "id": "T9U3IEKHsPXe",
        "outputId": "31f45ccb-d946-452b-cc1f-e5714fa15293"
      },
      "execution_count": 17,
      "outputs": [
        {
          "output_type": "stream",
          "name": "stdout",
          "text": [
            "Algoithmic Complexity of Hamiltonian = 112.87726471724082\n"
          ]
        }
      ]
    },
    {
      "cell_type": "code",
      "source": [
        "# ignore this cell\n",
        "Ham_arr = np.vectorize(np.binary_repr)(H_3, 3)\n",
        "Ham_arr"
      ],
      "metadata": {
        "colab": {
          "base_uri": "https://localhost:8080/"
        },
        "id": "zw0EKzlVzZBm",
        "outputId": "ef8b389d-6f98-4a11-fb37-6348e1a9294f"
      },
      "execution_count": null,
      "outputs": [
        {
          "output_type": "execute_result",
          "data": {
            "text/plain": [
              "array([['110', '000', '000', '000', '000', '000', '000', '000'],\n",
              "       ['000', '000', '000', '000', '000', '000', '000', '000'],\n",
              "       ['000', '000', '010', '000', '000', '000', '000', '000'],\n",
              "       ['000', '000', '000', '000', '000', '000', '000', '000'],\n",
              "       ['000', '000', '000', '000', '000', '000', '000', '000'],\n",
              "       ['000', '000', '000', '000', '000', '010', '000', '000'],\n",
              "       ['000', '000', '000', '000', '000', '000', '000', '000'],\n",
              "       ['000', '000', '000', '000', '000', '000', '000', '110']],\n",
              "      dtype='<U3')"
            ]
          },
          "metadata": {},
          "execution_count": 49
        }
      ]
    },
    {
      "cell_type": "code",
      "source": [
        "ts = np.linspace(0, 20, 50)\n",
        "\n",
        "for t in ts:\n",
        "  U = np.round(sp.linalg.expm(t * H_2 * i))\n",
        "\n",
        "Ham_KC = M_bdm(U)\n",
        "\n",
        "print(\"Hamiltnonian complexity=\",  Ham_KC)\n",
        "\n",
        "plt.plot(t, Ham_KC)\n",
        "plt.xlabel('time')\n",
        "plt.ylabel(r'Hamiltonian Kolmogorov Complexity')\n",
        "plt.title(r'Evolution of the Hamiltonian Kolmogorov Complexity')\n",
        "plt.show()\n",
        "\n",
        "\n"
      ],
      "metadata": {
        "id": "jZrTcjMO2c3O",
        "colab": {
          "base_uri": "https://localhost:8080/",
          "height": 489
        },
        "outputId": "740a1fb3-a7d2-4bc4-a575-24266cc744ea"
      },
      "execution_count": 88,
      "outputs": [
        {
          "output_type": "stream",
          "name": "stdout",
          "text": [
            "Hamiltnonian complexity= 144.02074031233025\n"
          ]
        },
        {
          "output_type": "display_data",
          "data": {
            "text/plain": [
              "<Figure size 640x480 with 1 Axes>"
            ],
            "image/png": "[encoded data removed]"
          },
          "metadata": {}
        }
      ]
    },
    {
      "cell_type": "code",
      "source": [],
      "metadata": {
        "id": "SEq1wE7yWN0K"
      },
      "execution_count": null,
      "outputs": []
    }
  ]
}