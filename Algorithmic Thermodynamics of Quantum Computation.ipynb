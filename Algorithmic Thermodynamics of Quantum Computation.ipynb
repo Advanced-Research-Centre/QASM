{
 "cells": [
  {
   "cell_type": "raw",
   "id": "f699b7c0",
   "metadata": {},
   "source": [
    "import numpy as np\n",
    "from pybdm import BDM\n",
    "\n",
    "X = np.ones((100,), dtype=int)\n",
    "\n",
    "bdm = BDM(ndim=1)\n",
    "\n",
    "bdm.ent(X)"
   ]
  },
  {
   "cell_type": "code",
   "execution_count": 9,
   "id": "49c80ab7",
   "metadata": {},
   "outputs": [
    {
     "ename": "TypeError",
     "evalue": "an integer is required",
     "output_type": "error",
     "traceback": [
      "\u001b[0;31m---------------------------------------------------------------------------\u001b[0m",
      "\u001b[0;31mTypeError\u001b[0m                                 Traceback (most recent call last)",
      "Input \u001b[0;32mIn [9]\u001b[0m, in \u001b[0;36m<cell line: 5>\u001b[0;34m()\u001b[0m\n\u001b[1;32m      2\u001b[0m y \u001b[38;5;241m=\u001b[39m \u001b[38;5;241m0\u001b[39m\n\u001b[1;32m      3\u001b[0m NAND \u001b[38;5;241m=\u001b[39m \u001b[38;5;129;01mnot\u001b[39;00m(x \u001b[38;5;129;01mand\u001b[39;00m y)\n\u001b[0;32m----> 5\u001b[0m Z \u001b[38;5;241m=\u001b[39m \u001b[43mnp\u001b[49m\u001b[38;5;241;43m.\u001b[39;49m\u001b[43mones\u001b[49m\u001b[43m(\u001b[49m\u001b[43m(\u001b[49m\u001b[43mNAND\u001b[49m\u001b[43m)\u001b[49m\u001b[43m,\u001b[49m\u001b[43m \u001b[49m\u001b[43mdtype\u001b[49m\u001b[38;5;241;43m=\u001b[39;49m\u001b[38;5;28;43mbool\u001b[39;49m\u001b[43m)\u001b[49m\n\u001b[1;32m      7\u001b[0m bdm \u001b[38;5;241m=\u001b[39m BDM(ndim \u001b[38;5;241m=\u001b[39m \u001b[38;5;241m1\u001b[39m)\n\u001b[1;32m      9\u001b[0m bdm\u001b[38;5;241m.\u001b[39ment(Z)\n",
      "File \u001b[0;32m~/anaconda3/envs/Quanta/lib/python3.9/site-packages/numpy/core/numeric.py:203\u001b[0m, in \u001b[0;36mones\u001b[0;34m(shape, dtype, order, like)\u001b[0m\n\u001b[1;32m    200\u001b[0m \u001b[38;5;28;01mif\u001b[39;00m like \u001b[38;5;129;01mis\u001b[39;00m \u001b[38;5;129;01mnot\u001b[39;00m \u001b[38;5;28;01mNone\u001b[39;00m:\n\u001b[1;32m    201\u001b[0m     \u001b[38;5;28;01mreturn\u001b[39;00m _ones_with_like(shape, dtype\u001b[38;5;241m=\u001b[39mdtype, order\u001b[38;5;241m=\u001b[39morder, like\u001b[38;5;241m=\u001b[39mlike)\n\u001b[0;32m--> 203\u001b[0m a \u001b[38;5;241m=\u001b[39m \u001b[43mempty\u001b[49m\u001b[43m(\u001b[49m\u001b[43mshape\u001b[49m\u001b[43m,\u001b[49m\u001b[43m \u001b[49m\u001b[43mdtype\u001b[49m\u001b[43m,\u001b[49m\u001b[43m \u001b[49m\u001b[43morder\u001b[49m\u001b[43m)\u001b[49m\n\u001b[1;32m    204\u001b[0m multiarray\u001b[38;5;241m.\u001b[39mcopyto(a, \u001b[38;5;241m1\u001b[39m, casting\u001b[38;5;241m=\u001b[39m\u001b[38;5;124m'\u001b[39m\u001b[38;5;124munsafe\u001b[39m\u001b[38;5;124m'\u001b[39m)\n\u001b[1;32m    205\u001b[0m \u001b[38;5;28;01mreturn\u001b[39;00m a\n",
      "\u001b[0;31mTypeError\u001b[0m: an integer is required"
     ]
    }
   ],
   "source": [
    "x = 1, \n",
    "y = 0\n",
    "NAND = not(x and y)\n",
    "\n",
    "Z = np.ones((NAND), dtype=bool)\n",
    "\n",
    "bdm = BDM(ndim = 1)\n",
    "\n",
    "bdm.ent(Z)"
   ]
  },
  {
   "cell_type": "code",
   "execution_count": 3,
   "id": "71f3d0f2",
   "metadata": {},
   "outputs": [
    {
     "name": "stderr",
     "output_type": "stream",
     "text": [
      "/home/sarang/anaconda3/envs/Quanta/lib/python3.9/collections/__init__.py:679: BDMRuntimeWarning: CTM dataset does not contain object '203332120231' of shape (12,)\n",
      "  _count_elements(self, iterable)\n"
     ]
    },
    {
     "data": {
      "text/plain": [
       "316.2489641667718"
      ]
     },
     "execution_count": 3,
     "metadata": {},
     "output_type": "execute_result"
    }
   ],
   "source": [
    "import numpy as np\n",
    "from pybdm import BDM\n",
    "\n",
    "np.random.seed(303)\n",
    "X = np.random.randint(0, 4, (100,))\n",
    "\n",
    "bdm = BDM(ndim=1, nsymbols = 4)\n",
    "\n",
    "bdm.bdm(X)"
   ]
  },
  {
   "cell_type": "code",
   "execution_count": 2,
   "id": "fb84ef69",
   "metadata": {},
   "outputs": [
    {
     "data": {
      "text/plain": [
       "3.0"
      ]
     },
     "execution_count": 2,
     "metadata": {},
     "output_type": "execute_result"
    }
   ],
   "source": [
    "bdm.ent(X)"
   ]
  },
  {
   "cell_type": "code",
   "execution_count": 11,
   "id": "662e9a1c",
   "metadata": {},
   "outputs": [
    {
     "name": "stdout",
     "output_type": "stream",
     "text": [
      "[[1 1 1 1]\n",
      " [1 1 1 1]\n",
      " [1 1 1 1]\n",
      " [1 1 1 1]]\n"
     ]
    }
   ],
   "source": [
    "X = np.ones((4, 4), dtype=int)\n",
    "\n",
    "bdm = BDM(ndim = 2)\n",
    "\n",
    "bdm.bdm(X)\n",
    "\n",
    "#bdm.ent(X)\n",
    "\n",
    "print(X)"
   ]
  },
  {
   "cell_type": "code",
   "execution_count": 6,
   "id": "b8375d35",
   "metadata": {},
   "outputs": [
    {
     "data": {
      "text/plain": [
       "0.0"
      ]
     },
     "execution_count": 6,
     "metadata": {},
     "output_type": "execute_result"
    }
   ],
   "source": [
    "bdm.ent(X)"
   ]
  },
  {
   "cell_type": "code",
   "execution_count": 1,
   "id": "796f45d8",
   "metadata": {},
   "outputs": [],
   "source": [
    "def length(x,y):\n",
    "    \n",
    "    for i in range(0,1,1):\n",
    "        x = i\n",
    "        \n",
    "    for j in range(0,1,1):\n",
    "        y = j\n",
    "        \n",
    "    z = not(x and y)\n",
    "    \n",
    "    return bit_length(z)\n",
    "    "
   ]
  },
  {
   "cell_type": "code",
   "execution_count": 7,
   "id": "4ceab00d",
   "metadata": {},
   "outputs": [
    {
     "name": "stdout",
     "output_type": "stream",
     "text": [
      "1\n"
     ]
    }
   ],
   "source": [
    "for i in range(0,1,1):\n",
    "    x = i\n",
    "        \n",
    "for j in range(0,1,1):\n",
    "    y = j\n",
    "        \n",
    "z = not(x and y)\n",
    "print(z.bit_length())"
   ]
  },
  {
   "cell_type": "code",
   "execution_count": 16,
   "id": "3aee03ff",
   "metadata": {},
   "outputs": [
    {
     "name": "stdout",
     "output_type": "stream",
     "text": [
      "[[1 0]\n",
      " [0 1]]\n"
     ]
    },
    {
     "ename": "AttributeError",
     "evalue": "'numpy.ndarray' object has no attribute 'bit_count'",
     "output_type": "error",
     "traceback": [
      "\u001b[0;31m---------------------------------------------------------------------------\u001b[0m",
      "\u001b[0;31mAttributeError\u001b[0m                            Traceback (most recent call last)",
      "Input \u001b[0;32mIn [16]\u001b[0m, in \u001b[0;36m<cell line: 6>\u001b[0;34m()\u001b[0m\n\u001b[1;32m      3\u001b[0m c \u001b[38;5;241m=\u001b[39m np\u001b[38;5;241m.\u001b[39marray([[\u001b[38;5;241m1\u001b[39m,\u001b[38;5;241m0\u001b[39m],[\u001b[38;5;241m0\u001b[39m,\u001b[38;5;241m1\u001b[39m]])\n\u001b[1;32m      4\u001b[0m \u001b[38;5;28mprint\u001b[39m(c)\n\u001b[0;32m----> 6\u001b[0m \u001b[38;5;28mprint\u001b[39m(\u001b[43mc\u001b[49m\u001b[38;5;241;43m.\u001b[39;49m\u001b[43mbit_count\u001b[49m())\n",
      "\u001b[0;31mAttributeError\u001b[0m: 'numpy.ndarray' object has no attribute 'bit_count'"
     ]
    }
   ],
   "source": [
    "import numpy as np\n",
    "\n",
    "c = np.array([[1,0],[0,1]])\n",
    "print(c)\n",
    "\n",
    "print(c.bit_count())"
   ]
  },
  {
   "cell_type": "code",
   "execution_count": 17,
   "id": "eb14eed3",
   "metadata": {},
   "outputs": [
    {
     "ename": "AttributeError",
     "evalue": "'bool' object has no attribute 'bit_count'",
     "output_type": "error",
     "traceback": [
      "\u001b[0;31m---------------------------------------------------------------------------\u001b[0m",
      "\u001b[0;31mAttributeError\u001b[0m                            Traceback (most recent call last)",
      "Input \u001b[0;32mIn [17]\u001b[0m, in \u001b[0;36m<cell line: 1>\u001b[0;34m()\u001b[0m\n\u001b[0;32m----> 1\u001b[0m \u001b[38;5;28mprint\u001b[39m(\u001b[43mz\u001b[49m\u001b[38;5;241;43m.\u001b[39;49m\u001b[43mbit_count\u001b[49m())\n",
      "\u001b[0;31mAttributeError\u001b[0m: 'bool' object has no attribute 'bit_count'"
     ]
    }
   ],
   "source": [
    "print(z.bit_count())"
   ]
  },
  {
   "cell_type": "code",
   "execution_count": 17,
   "id": "aa2da168",
   "metadata": {},
   "outputs": [
    {
     "data": {
      "text/plain": [
       "26.329512409430883"
      ]
     },
     "execution_count": 17,
     "metadata": {},
     "output_type": "execute_result"
    }
   ],
   "source": [
    "import numpy as np\n",
    "from pybdm import BDM\n",
    "\n",
    "#Y = np.ones((100,100), dtype = int)\n",
    "\n",
    "X = np.array([[0,0,0,1], [1, 1,1,0], [1,1,1,1], [1,1,0,1]], dtype = int)\n",
    "\n",
    "bdm = BDM(ndim=2)\n",
    "\n",
    "bdm.bdm(X)\n",
    "\n",
    "#bdm.ent(X)"
   ]
  },
  {
   "cell_type": "markdown",
   "id": "cd6f964e",
   "metadata": {},
   "source": [
    "### Algorithmic Thermodynamics"
   ]
  },
  {
   "cell_type": "code",
   "execution_count": 32,
   "id": "ac10c641",
   "metadata": {},
   "outputs": [],
   "source": [
    "import qiskit\n",
    "from qiskit import QuantumCircuit, execute, transpile\n",
    "from qiskit.visualization import array_to_latex\n",
    "from qiskit import Aer"
   ]
  },
  {
   "cell_type": "markdown",
   "id": "4a0c8c13",
   "metadata": {},
   "source": [
    "The Hamiltonian of an 1D Harmonic Oscillator, would be a diagonalized matrix, whose diagonal elements would represent the form \n",
    "\n",
    "$${H} = \\hbar\\ \\omega\\ (\\frac{n}{2} + 1)$$\n",
    "\n",
    "Hence the diagonal matrix we get, can be represented as follows:\n",
    "\n",
    "$$H = \\frac{\\hbar\\ \\omega}{2}\\ \\begin{pmatrix} 1 & 0 & 0 & 0 \\\\ 0 & 3 & 0 & 0 \\\\  0 & 0 & 5 & 0 \\\\ 0 & 0 & 0 & 7 \\end{pmatrix}$$\n",
    "\n"
   ]
  },
  {
   "cell_type": "code",
   "execution_count": 31,
   "id": "8cf784f6",
   "metadata": {},
   "outputs": [],
   "source": [
    "H = [[1,0,0,0],\n",
    "     [0,3,0,0],\n",
    "     [0,0,5,0],\n",
    "     [0,0,0,7]]"
   ]
  },
  {
   "cell_type": "code",
   "execution_count": 34,
   "id": "ad3e84c7",
   "metadata": {},
   "outputs": [],
   "source": [
    "import numpy as np"
   ]
  },
  {
   "cell_type": "code",
   "execution_count": 42,
   "id": "a20b9fce",
   "metadata": {},
   "outputs": [],
   "source": [
    "q, r = np.linalg.qr(H)"
   ]
  },
  {
   "cell_type": "code",
   "execution_count": 43,
   "id": "10cca389",
   "metadata": {},
   "outputs": [
    {
     "data": {
      "text/plain": [
       "array([[1., 0., 0., 0.],\n",
       "       [0., 1., 0., 0.],\n",
       "       [0., 0., 1., 0.],\n",
       "       [0., 0., 0., 1.]])"
      ]
     },
     "execution_count": 43,
     "metadata": {},
     "output_type": "execute_result"
    }
   ],
   "source": [
    "p = np.dot(q.T, H)\n",
    "np.dot(np.linalg.inv(r), p)"
   ]
  },
  {
   "cell_type": "markdown",
   "id": "5b3dd0a6",
   "metadata": {},
   "source": [
    "The unitary matrix of H is given by:\n",
    "\n",
    "$$H' = \\frac{\\hbar\\ \\omega}{2} \\begin{pmatrix} 1 & 0 & 0 & 0 \\\\ 0 & 1 & 0 & 0 \\\\ 0 & 0 & 1 & 0 \\\\ 0 & 0 & 0 & 1 \\\\ \\end{pmatrix}$$"
   ]
  },
  {
   "cell_type": "code",
   "execution_count": 48,
   "id": "bfbfc801",
   "metadata": {},
   "outputs": [],
   "source": [
    "circ = QuantumCircuit(2)"
   ]
  },
  {
   "cell_type": "code",
   "execution_count": 49,
   "id": "a4dd3e65",
   "metadata": {},
   "outputs": [
    {
     "data": {
      "image/png": "[encoded data removed]",
      "text/plain": [
       "<Figure size 206.852x144.48 with 1 Axes>"
      ]
     },
     "execution_count": 49,
     "metadata": {},
     "output_type": "execute_result"
    }
   ],
   "source": [
    "H1 = [[1,0,0,0],\n",
    "     [0,1,0,0],\n",
    "     [0,0,1,0],\n",
    "     [0,0,0,1]]\n",
    "circ.unitary(H1, [0, 1])\n",
    "circ.draw('mpl')"
   ]
  },
  {
   "cell_type": "code",
   "execution_count": 50,
   "id": "233dcd53",
   "metadata": {},
   "outputs": [
    {
     "data": {
      "image/png": "[encoded data removed]",
      "text/plain": [
       "<Figure size 116.552x144.48 with 1 Axes>"
      ]
     },
     "execution_count": 50,
     "metadata": {},
     "output_type": "execute_result"
    }
   ],
   "source": [
    "trans_circ = transpile(circ, basis_gates=['I', 'H', 'cx'])\n",
    "trans_circ.draw('mpl')"
   ]
  },
  {
   "cell_type": "code",
   "execution_count": 54,
   "id": "a72304a0",
   "metadata": {},
   "outputs": [
    {
     "data": {
      "text/plain": [
       "23.2385807669306"
      ]
     },
     "execution_count": 54,
     "metadata": {},
     "output_type": "execute_result"
    }
   ],
   "source": [
    "import numpy as np\n",
    "from pybdm import BDM\n",
    "\n",
    "#Y = np.ones((100,100), dtype = int)\n",
    "\n",
    "X = np.array([[1,0,0,0], [0, 1, 0, 0], [0,0,1,0], [0,0,0,1]], dtype = int)\n",
    "\n",
    "bdm = BDM(ndim=2)\n",
    "\n",
    "bdm.bdm(X)"
   ]
  },
  {
   "cell_type": "code",
   "execution_count": 55,
   "id": "d061deb2",
   "metadata": {},
   "outputs": [
    {
     "data": {
      "text/plain": [
       "0.0"
      ]
     },
     "execution_count": 55,
     "metadata": {},
     "output_type": "execute_result"
    }
   ],
   "source": [
    "bdm.ent(X)"
   ]
  },
  {
   "cell_type": "code",
   "execution_count": null,
   "id": "2102b480",
   "metadata": {},
   "outputs": [],
   "source": []
  }
 ],
 "metadata": {
  "kernelspec": {
   "display_name": "Python 3 (ipykernel)",
   "language": "python",
   "name": "python3"
  },
  "language_info": {
   "codemirror_mode": {
    "name": "ipython",
    "version": 3
   },
   "file_extension": ".py",
   "mimetype": "text/x-python",
   "name": "python",
   "nbconvert_exporter": "python",
   "pygments_lexer": "ipython3",
   "version": "3.9.7"
  }
 },
 "nbformat": 4,
 "nbformat_minor": 5
}
