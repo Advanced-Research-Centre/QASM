{
 "cells": [
  {
   "cell_type": "markdown",
   "id": "cd6f964e",
   "metadata": {},
   "source": [
    "### Algorithmic Thermodynamics"
   ]
  },
  {
   "cell_type": "code",
   "execution_count": 1,
   "id": "ac10c641",
   "metadata": {},
   "outputs": [],
   "source": [
    "import qiskit\n",
    "from qiskit import QuantumCircuit, execute, transpile\n",
    "from qiskit.visualization import array_to_latex\n",
    "from qiskit import Aer"
   ]
  },
  {
   "cell_type": "markdown",
   "id": "4a0c8c13",
   "metadata": {},
   "source": [
    "The Hamiltonian of an 1D Harmonic Oscillator, would be a diagonalized matrix, whose diagonal elements would represent the form \n",
    "\n",
    "$${H} = \\hbar\\ \\omega\\ (\\frac{n}{2} + 1)$$\n",
    "\n",
    "Hence the diagonal matrix we get, can be represented as follows:\n",
    "\n",
    "$$H = \\frac{\\hbar\\ \\omega}{2}\\ \\begin{pmatrix} 1 & 0 & 0 & 0 \\\\ 0 & 3 & 0 & 0 \\\\  0 & 0 & 5 & 0 \\\\ 0 & 0 & 0 & 7 \\end{pmatrix}$$\n",
    "\n"
   ]
  },
  {
   "cell_type": "code",
   "execution_count": 2,
   "id": "8cf784f6",
   "metadata": {},
   "outputs": [],
   "source": [
    "H = [[1,0,0,0],\n",
    "     [0,3,0,0],\n",
    "     [0,0,5,0],\n",
    "     [0,0,0,7]]"
   ]
  },
  {
   "cell_type": "code",
   "execution_count": 4,
   "id": "ad3e84c7",
   "metadata": {},
   "outputs": [],
   "source": [
    "import numpy as np"
   ]
  },
  {
   "cell_type": "code",
   "execution_count": 5,
   "id": "a20b9fce",
   "metadata": {},
   "outputs": [],
   "source": [
    "q, r = np.linalg.qr(H)"
   ]
  },
  {
   "cell_type": "code",
   "execution_count": 6,
   "id": "10cca389",
   "metadata": {},
   "outputs": [
    {
     "data": {
      "text/plain": [
       "array([[1., 0., 0., 0.],\n",
       "       [0., 1., 0., 0.],\n",
       "       [0., 0., 1., 0.],\n",
       "       [0., 0., 0., 1.]])"
      ]
     },
     "execution_count": 6,
     "metadata": {},
     "output_type": "execute_result"
    }
   ],
   "source": [
    "p = np.dot(q.T, H)\n",
    "np.dot(np.linalg.inv(r), p)"
   ]
  },
  {
   "cell_type": "markdown",
   "id": "5b3dd0a6",
   "metadata": {},
   "source": [
    "The unitary matrix of H is given by:\n",
    "\n",
    "$$H' = \\frac{\\hbar\\ \\omega}{2} \\begin{pmatrix} 1 & 0 & 0 & 0 \\\\ 0 & 1 & 0 & 0 \\\\ 0 & 0 & 1 & 0 \\\\ 0 & 0 & 0 & 1 \\\\ \\end{pmatrix}$$"
   ]
  },
  {
   "cell_type": "code",
   "execution_count": 7,
   "id": "bfbfc801",
   "metadata": {},
   "outputs": [],
   "source": [
    "circ = QuantumCircuit(2)"
   ]
  },
  {
   "cell_type": "code",
   "execution_count": 8,
   "id": "a4dd3e65",
   "metadata": {},
   "outputs": [
    {
     "data": {
      "image/png": "[encoded data removed]",
      "text/plain": [
       "<Figure size 206.852x144.48 with 1 Axes>"
      ]
     },
     "execution_count": 8,
     "metadata": {},
     "output_type": "execute_result"
    }
   ],
   "source": [
    "H1 = [[1,0,0,0],\n",
    "     [0,1,0,0],\n",
    "     [0,0,1,0],\n",
    "     [0,0,0,1]]\n",
    "circ.unitary(H1, [0, 1])\n",
    "circ.draw('mpl')"
   ]
  },
  {
   "cell_type": "code",
   "execution_count": 9,
   "id": "233dcd53",
   "metadata": {},
   "outputs": [
    {
     "data": {
      "image/png": "[encoded data removed]",
      "text/plain": [
       "<Figure size 116.552x144.48 with 1 Axes>"
      ]
     },
     "execution_count": 9,
     "metadata": {},
     "output_type": "execute_result"
    }
   ],
   "source": [
    "trans_circ = transpile(circ, basis_gates=['I', 'H', 'cx'])\n",
    "trans_circ.draw('mpl')"
   ]
  },
  {
   "cell_type": "markdown",
   "id": "b9785d9d",
   "metadata": {},
   "source": [
    "### Introducing the Kolmogorov Complexity"
   ]
  },
  {
   "cell_type": "code",
   "execution_count": 10,
   "id": "a72304a0",
   "metadata": {},
   "outputs": [
    {
     "data": {
      "text/plain": [
       "23.2385807669306"
      ]
     },
     "execution_count": 10,
     "metadata": {},
     "output_type": "execute_result"
    }
   ],
   "source": [
    "import numpy as np\n",
    "from pybdm import BDM\n",
    "\n",
    "#Y = np.ones((100,100), dtype = int)\n",
    "\n",
    "X = np.array([[1,0,0,0], [0, 1, 0, 0], [0,0,1,0], [0,0,0,1]], dtype = int)\n",
    "\n",
    "bdm = BDM(ndim=2)\n",
    "\n",
    "bdm.bdm(X)"
   ]
  },
  {
   "cell_type": "code",
   "execution_count": 11,
   "id": "d061deb2",
   "metadata": {},
   "outputs": [
    {
     "data": {
      "text/plain": [
       "0.0"
      ]
     },
     "execution_count": 11,
     "metadata": {},
     "output_type": "execute_result"
    }
   ],
   "source": [
    "bdm.ent(X)"
   ]
  },
  {
   "cell_type": "markdown",
   "id": "1a1827d7",
   "metadata": {},
   "source": [
    "As we can see the entropy of the unitary Hamiltonian is 0. We will now calculate the entanglement entropy, also known as the von Neumann entropy and compare the two."
   ]
  },
  {
   "cell_type": "markdown",
   "id": "1169a899",
   "metadata": {},
   "source": [
    "### Calculating the von Neumann Entropy\n",
    "\n",
    "\n",
    "The von Neumann entropy is given by $S(\\rho_i) = -Tr[\\rho_i log_2(\\rho_i)]$.\n",
    "\n",
    "Where $\\rho_i$ is the density matrix of the 'ith' state.\n",
    "\n",
    "For this we need to find the eigenvalue and eigenvectors of the unitary Hamiltonian. Then for the 'ith' state the density matrix can be written as follows:\n",
    "\n",
    "$\\rho_i = |\\psi_i \\rangle \\langle \\psi_i|$"
   ]
  },
  {
   "cell_type": "markdown",
   "id": "7fbe5c6d",
   "metadata": {},
   "source": [
    "np.linalg.eig(X)"
   ]
  },
  {
   "cell_type": "code",
   "execution_count": 15,
   "id": "086ece40",
   "metadata": {},
   "outputs": [],
   "source": [
    "a = [1, 0, 0, 0]\n",
    "b = [[1],\n",
    "     [0],\n",
    "     [0],\n",
    "     [0]]"
   ]
  },
  {
   "cell_type": "code",
   "execution_count": 16,
   "id": "8059b5a2",
   "metadata": {},
   "outputs": [
    {
     "name": "stdout",
     "output_type": "stream",
     "text": [
      "[[1], [0], [0], [0]]\n"
     ]
    }
   ],
   "source": [
    "print(b)"
   ]
  },
  {
   "cell_type": "code",
   "execution_count": 19,
   "id": "d1fcb9fa",
   "metadata": {},
   "outputs": [
    {
     "name": "stdout",
     "output_type": "stream",
     "text": [
      "[[1 0 0 0]\n",
      " [0 0 0 0]\n",
      " [0 0 0 0]\n",
      " [0 0 0 0]]\n"
     ]
    }
   ],
   "source": [
    "rho = np.outer(b, a)\n",
    "print(rho)"
   ]
  },
  {
   "cell_type": "code",
   "execution_count": 21,
   "id": "723f2e97",
   "metadata": {},
   "outputs": [],
   "source": [
    "from qiskit import quantum_info"
   ]
  },
  {
   "cell_type": "code",
   "execution_count": 22,
   "id": "1ffb0d08",
   "metadata": {},
   "outputs": [
    {
     "data": {
      "text/plain": [
       "0.0"
      ]
     },
     "execution_count": 22,
     "metadata": {},
     "output_type": "execute_result"
    }
   ],
   "source": [
    "quantum_info.entropy(rho, base =2)"
   ]
  },
  {
   "cell_type": "markdown",
   "id": "50137b74",
   "metadata": {},
   "source": [
    "As we can see both the entropies are 0."
   ]
  },
  {
   "cell_type": "code",
   "execution_count": null,
   "id": "bc3eee75",
   "metadata": {},
   "outputs": [],
   "source": []
  }
 ],
 "metadata": {
  "kernelspec": {
   "display_name": "Python 3 (ipykernel)",
   "language": "python",
   "name": "python3"
  },
  "language_info": {
   "codemirror_mode": {
    "name": "ipython",
    "version": 3
   },
   "file_extension": ".py",
   "mimetype": "text/x-python",
   "name": "python",
   "nbconvert_exporter": "python",
   "pygments_lexer": "ipython3",
   "version": "3.9.7"
  }
 },
 "nbformat": 4,
 "nbformat_minor": 5
}
