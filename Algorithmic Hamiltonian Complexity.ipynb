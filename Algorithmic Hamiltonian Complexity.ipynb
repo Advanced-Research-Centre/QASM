{
  "cells": [
    {
      "cell_type": "markdown",
      "metadata": {
        "id": "view-in-github",
        "colab_type": "text"
      },
      "source": [
        "<a href=\"https://colab.research.google.com/github/Advanced-Research-Centre/QASM/blob/main/Algorithmic%20Hamiltonian%20Complexity.ipynb\" target=\"_parent\"><img src=\"https://colab.research.google.com/assets/colab-badge.svg\" alt=\"Open In Colab\"/></a>"
      ]
    },
    {
      "cell_type": "code",
      "source": [
        "%%capture\n",
        "!pip install pybdm\n",
        "!pip install qiskit"
      ],
      "metadata": {
        "id": "fQDKS5YVBQW4"
      },
      "id": "fQDKS5YVBQW4",
      "execution_count": 98,
      "outputs": []
    },
    {
      "cell_type": "code",
      "execution_count": 178,
      "id": "a72304a0",
      "metadata": {
        "id": "a72304a0"
      },
      "outputs": [],
      "source": [
        "import numpy as np\n",
        "import scipy as sp\n",
        "from pybdm import BDM\n",
        "import qiskit\n",
        "import matplotlib.pyplot as plt\n",
        "%matplotlib inline\n",
        "from qiskit.visualization import plot_bloch_multivector\n",
        "from qiskit import QuantumCircuit, execute, transpile\n",
        "import qiskit.quantum_info as qi\n",
        "import random"
      ]
    },
    {
      "cell_type": "code",
      "source": [
        "def show_figure(fig):\n",
        "    # See https://github.com/Qiskit/qiskit-terra/issues/1682\n",
        "    new_fig = plt.figure()\n",
        "    new_mngr = new_fig.canvas.manager\n",
        "    new_mngr.canvas.figure = fig\n",
        "    fig.set_canvas(new_mngr.canvas)\n",
        "    plt.show(fig)\n",
        "\n",
        "def plot_U_0(U):\n",
        "  qc = QuantumCircuit(1)\n",
        "  qc.unitary(U, [0])\n",
        "  sv = qi.Statevector.from_instruction(qc)\n",
        "  show_figure(plot_bloch_multivector(sv, title=\"\"))"
      ],
      "metadata": {
        "id": "7eaMlfP37AaK"
      },
      "id": "7eaMlfP37AaK",
      "execution_count": 179,
      "outputs": []
    },
    {
      "cell_type": "code",
      "source": [
        "# Works for matrices being real, negative, complex.\n",
        "\n",
        "def H2U(H,t,precision=8):\n",
        "  r = np.pi*t\n",
        "  U = np.round(sp.linalg.expm(r*H*1j),precision)\n",
        "  return U\n",
        "\n",
        "def U_bdm(U,width=8,frac=4):\n",
        "  Ur = U.real\n",
        "  Ui = U.imag\n",
        "  Ur_quantized = np.round(Ur*(2**frac)).astype(int)\n",
        "  Ur_bin = np.vectorize(np.binary_repr)(Ur_quantized,width)\n",
        "  Ui_quantized = np.round(Ui*(2**frac)).astype(int)\n",
        "  Ui_bin = np.vectorize(np.binary_repr)(Ui_quantized,width)\n",
        "  U_bin = np.array(list(''.join(list(np.concatenate((np.ndarray.flatten(Ur_bin),np.ndarray.flatten(Ui_bin)))))),dtype=int)\n",
        "  bdm1d = BDM(ndim=1)\n",
        "  return bdm1d.bdm(U_bin)"
      ],
      "metadata": {
        "id": "xmuTzLLfaVr1"
      },
      "id": "xmuTzLLfaVr1",
      "execution_count": 181,
      "outputs": []
    },
    {
      "cell_type": "code",
      "source": [
        "H = np.array([[-1,1], [1,-1]])\n",
        "trials = 1000\n",
        "data = []\n",
        "for i in range(0,trials):\n",
        "  t = random.random()\n",
        "  bdm1d = BDM(ndim=1)\n",
        "  t_bdm = bdm1d.bdm(np.array(list(np.binary_repr(int(t*(2**18)),24)),dtype=int))\n",
        "  data.append((t,U_bdm(H2U(H,t),12,6),t_bdm))\n",
        "\n",
        "xs = [x[0] for x in data]\n",
        "y1s = [x[1] for x in data]\n",
        "y2s = [x[2] for x in data]\n",
        "plt.plot(xs, y1s, 'ro', markersize=2)\n",
        "plt.plot(xs, y2s, 'bx', markersize=1)\n",
        "plt.show()"
      ],
      "metadata": {
        "id": "3XLmb_6fmzrE",
        "outputId": "7090a6f6-1af3-49e9-d74b-a375f9fa5b48",
        "colab": {
          "base_uri": "https://localhost:8080/",
          "height": 430
        }
      },
      "id": "3XLmb_6fmzrE",
      "execution_count": 183,
      "outputs": [
        {
          "output_type": "display_data",
          "data": {
            "text/plain": [
              "<Figure size 640x480 with 1 Axes>"
            ],
            "image/png": "[encoded data removed]"
          },
          "metadata": {}
        }
      ]
    },
    {
      "cell_type": "code",
      "source": [
        "# Plans:\n",
        "# BDM works for reals in 0, 1. Use this?\n",
        "# Ising Model = MaxCut problem\n",
        "# Heisenberg XXX model Hamiltonians from https://github.com/qiskit-community/open-science-prize-2021/blob/main/ibmq-qsim-sup-mat.ipynb"
      ],
      "metadata": {
        "id": "Gd0tXOJc5-ur"
      },
      "id": "Gd0tXOJc5-ur",
      "execution_count": null,
      "outputs": []
    },
    {
      "cell_type": "markdown",
      "source": [
        "Ignore codes below --------------"
      ],
      "metadata": {
        "id": "UHYvdJaL50Wu"
      },
      "id": "UHYvdJaL50Wu"
    },
    {
      "cell_type": "code",
      "source": [
        "H = np.array([[-1,1], [1,-1]])\n",
        "t = 1\n",
        "r = np.pi*t\n",
        "U = np.round(sp.linalg.expm(r*H*1j),8)\n",
        "print(U)"
      ],
      "metadata": {
        "id": "YR85lq3pKeFs"
      },
      "id": "YR85lq3pKeFs",
      "execution_count": null,
      "outputs": []
    },
    {
      "cell_type": "code",
      "source": [
        "# Failed method (for fractions/complex)\n",
        "\n",
        "U2 = np.kron(U,np.eye(2)) # since\n",
        "print(U2)\n",
        "\n",
        "U2_bin = np.array(U2 , dtype = int)\n",
        "bdm2d = BDM(ndim=2)\n",
        "print(\"BDM =\",bdm2d.bdm(U2_bin))"
      ],
      "metadata": {
        "id": "T49FHMSGgN2G",
        "outputId": "5abc593e-eb31-4405-d2dc-eded097fad3e",
        "colab": {
          "base_uri": "https://localhost:8080/"
        }
      },
      "id": "T49FHMSGgN2G",
      "execution_count": null,
      "outputs": [
        {
          "output_type": "stream",
          "name": "stdout",
          "text": [
            "[[0.+0.j 0.+0.j 1.+0.j 0.+0.j]\n",
            " [0.+0.j 0.+0.j 0.+0.j 1.+0.j]\n",
            " [1.+0.j 0.+0.j 0.+0.j 0.+0.j]\n",
            " [0.+0.j 1.+0.j 0.+0.j 0.+0.j]]\n",
            "BDM = 26.415903926263844\n"
          ]
        },
        {
          "output_type": "stream",
          "name": "stderr",
          "text": [
            "<ipython-input-83-844ce37bbaa3>:6: ComplexWarning: Casting complex values to real discards the imaginary part\n",
            "  U2_bin = np.array(U2 , dtype = int)\n"
          ]
        }
      ]
    },
    {
      "cell_type": "code",
      "source": [
        "# Failed method\n",
        "\n",
        "U2r = U2.real\n",
        "U2i = U2.imag\n",
        "print(U2r, U2i)\n",
        "\n",
        "f = 4 # fraction width\n",
        "\n",
        "U2r_quantized = np.round(U2r*(2**f)).astype(int)\n",
        "U2r_bin = np.vectorize(np.binary_repr)(U2r_quantized).astype(int)\n",
        "print(U2r_bin)\n",
        "\n",
        "U2i_quantized = np.round(U2i*(2**f)).astype(int)\n",
        "U2i_bin = np.vectorize(np.binary_repr)(U2i_quantized).astype(int)\n",
        "print(U2i_bin)\n",
        "\n",
        "U2_bin = np.concatenate((np.ndarray.flatten(U2r_bin),np.ndarray.flatten(U2i_bin)))\n",
        "\n",
        "print(U2_bin)\n",
        "\n",
        "bdm1d = BDM(ndim=1)\n",
        "print(\"BDM =\",bdm1d.bdm(U2_bin))"
      ],
      "metadata": {
        "id": "bxdE2KuwZwPE"
      },
      "id": "bxdE2KuwZwPE",
      "execution_count": null,
      "outputs": []
    }
  ],
  "metadata": {
    "kernelspec": {
      "display_name": "Python 3 (ipykernel)",
      "language": "python",
      "name": "python3"
    },
    "language_info": {
      "codemirror_mode": {
        "name": "ipython",
        "version": 3
      },
      "file_extension": ".py",
      "mimetype": "text/x-python",
      "name": "python",
      "nbconvert_exporter": "python",
      "pygments_lexer": "ipython3",
      "version": "3.9.7"
    },
    "colab": {
      "provenance": [],
      "include_colab_link": true
    }
  },
  "nbformat": 4,
  "nbformat_minor": 5
}